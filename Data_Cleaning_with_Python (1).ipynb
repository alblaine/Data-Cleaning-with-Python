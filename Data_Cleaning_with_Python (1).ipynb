{
  "nbformat": 4,
  "nbformat_minor": 0,
  "metadata": {
    "colab": {
      "name": "Data_Cleaning_with_Python.ipynb",
      "version": "0.3.2",
      "provenance": [],
      "collapsed_sections": []
    },
    "kernelspec": {
      "name": "python3",
      "display_name": "Python 3"
    }
  },
  "cells": [
    {
      "metadata": {
        "id": "iEvI-KpARZkS",
        "colab_type": "text"
      },
      "cell_type": "markdown",
      "source": [
        "# **Data Cleaning with Python**  \n",
        "An NCSU Libraries Workshop  \n",
        "Instructor: Alison Blaine, ablaine@ncsu.edu\n",
        "\n"
      ]
    },
    {
      "metadata": {
        "id": "iNIMxnrkxk3q",
        "colab_type": "text"
      },
      "cell_type": "markdown",
      "source": [
        "### Welcome! In this workshop, we'll learn how to do the following: \n",
        "* load in python libraries for data cleaning (pandas) and graphing (matplotlib)\n",
        "* read csv files into Python from an internet source\n",
        "* examine the first and last few rows of the data\n",
        "* delete duplicates\n",
        "* filter the data to create subsets\n",
        "* sort the data\n",
        "* group the data for plotting\n",
        "* drop variables from the dataset\n",
        "* create new variables\n",
        "* generate and save summary statistics for a dataset"
      ]
    },
    {
      "metadata": {
        "id": "oAgjwPfORxoY",
        "colab_type": "text"
      },
      "cell_type": "markdown",
      "source": [
        "### Step 1. We'll start by loading in the required Python libraries."
      ]
    },
    {
      "metadata": {
        "id": "EhhU85l3RJ8k",
        "colab_type": "code",
        "colab": {}
      },
      "cell_type": "code",
      "source": [
        "import pandas as pd\n",
        "import matplotlib.pyplot as plt"
      ],
      "execution_count": 0,
      "outputs": []
    },
    {
      "metadata": {
        "id": "V95BKFBuSpzr",
        "colab_type": "text"
      },
      "cell_type": "markdown",
      "source": [
        "### Step 2. Next, we'll load in a dataset from the internet. This dataset is a CSV (comma separated values) file."
      ]
    },
    {
      "metadata": {
        "id": "pj7DcrfHSpWE",
        "colab_type": "code",
        "colab": {}
      },
      "cell_type": "code",
      "source": [
        "url=\"https://raw.githubusercontent.com/alblaine/data-USstates/master/state-population.csv\"\n",
        "\n",
        "dat=pd.read_csv(url)\n",
        "\n"
      ],
      "execution_count": 0,
      "outputs": []
    },
    {
      "metadata": {
        "id": "8GS3SOCWatdL",
        "colab_type": "text"
      },
      "cell_type": "markdown",
      "source": [
        "### Step 3. Type dat.head() to see the first 5 rows of the dataset. Then click the run button."
      ]
    },
    {
      "metadata": {
        "id": "FEEgaJYSatC5",
        "colab_type": "code",
        "colab": {}
      },
      "cell_type": "code",
      "source": [
        "dat.head()"
      ],
      "execution_count": 0,
      "outputs": []
    },
    {
      "metadata": {
        "id": "5e847Ddpnzom",
        "colab_type": "text"
      },
      "cell_type": "markdown",
      "source": [
        "### Step 4. Rename the state/region column to state_region using rename()."
      ]
    },
    {
      "metadata": {
        "id": "ZyLmH3ayn7LS",
        "colab_type": "code",
        "colab": {}
      },
      "cell_type": "code",
      "source": [
        "dat.rename(columns={'state/region':'state_region'}, inplace=True)\n",
        "\n",
        "dat.head()"
      ],
      "execution_count": 0,
      "outputs": []
    },
    {
      "metadata": {
        "id": "vmDZaylQ0RcK",
        "colab_type": "text"
      },
      "cell_type": "markdown",
      "source": [
        "### Step 5. Print out the unique values in the state_region column using drop_duplicates()."
      ]
    },
    {
      "metadata": {
        "id": "WO02Y2G9z56_",
        "colab_type": "code",
        "colab": {}
      },
      "cell_type": "code",
      "source": [
        "dat.state_region.drop_duplicates()  # note: this does not permanently delete duplicates"
      ],
      "execution_count": 0,
      "outputs": []
    },
    {
      "metadata": {
        "id": "Vsd9kg3y0YU_",
        "colab_type": "text"
      },
      "cell_type": "markdown",
      "source": [
        "### Step 6. Filter out all rows except for NC using query()."
      ]
    },
    {
      "metadata": {
        "id": "5qQWifgv0YCU",
        "colab_type": "code",
        "colab": {}
      },
      "cell_type": "code",
      "source": [
        "dat_filtered = dat.query('state_region == \"NC\"')   # note: we are creating a new dataset called dat_filtered that contains the filtered data\n",
        "\n",
        "dat_filtered.head()"
      ],
      "execution_count": 0,
      "outputs": []
    },
    {
      "metadata": {
        "id": "38EaStPQ9RSa",
        "colab_type": "text"
      },
      "cell_type": "markdown",
      "source": [
        "### Step 7. Order the columns by year using sort_values()."
      ]
    },
    {
      "metadata": {
        "id": "mG4vCaj39XI4",
        "colab_type": "code",
        "colab": {}
      },
      "cell_type": "code",
      "source": [
        "\n",
        "dat_sorted = dat_filtered.sort_values(['year'])   # note: ascending is the default sort order\n",
        "\n",
        "dat_sorted.head()"
      ],
      "execution_count": 0,
      "outputs": []
    },
    {
      "metadata": {
        "id": "sMxZX73-tQyj",
        "colab_type": "text"
      },
      "cell_type": "markdown",
      "source": [
        "### Step 8. Try to make a basic line plot showing year (X) and population (Y) using the plot() function from matplotlib."
      ]
    },
    {
      "metadata": {
        "id": "ElfVJX9ib6Tt",
        "colab_type": "text"
      },
      "cell_type": "markdown",
      "source": [
        "First, let's choose a chart theme."
      ]
    },
    {
      "metadata": {
        "id": "1ymqX5Sl_Eeu",
        "colab_type": "code",
        "outputId": "eb6831ca-4678-42b1-e3dd-350ece31893f",
        "colab": {
          "base_uri": "https://localhost:8080/",
          "height": 54
        }
      },
      "cell_type": "code",
      "source": [
        "print(plt.style.available)  # note: this command lists all the themes available"
      ],
      "execution_count": 0,
      "outputs": [
        {
          "output_type": "stream",
          "text": [
            "['seaborn-darkgrid', 'ggplot', 'grayscale', 'seaborn-deep', 'seaborn-dark', 'fast', 'bmh', 'seaborn-poster', 'Solarize_Light2', 'classic', 'seaborn-white', 'seaborn-dark-palette', '_classic_test', 'seaborn-muted', 'seaborn-talk', 'seaborn-whitegrid', 'seaborn-bright', 'dark_background', 'seaborn-notebook', 'seaborn', 'seaborn-pastel', 'fivethirtyeight', 'seaborn-paper', 'seaborn-ticks', 'seaborn-colorblind']\n"
          ],
          "name": "stdout"
        }
      ]
    },
    {
      "metadata": {
        "id": "IT7dvNBLl10X",
        "colab_type": "code",
        "outputId": "6bcbb25c-2750-4d2b-fbee-ba01bbfdd4b5",
        "colab": {
          "base_uri": "https://localhost:8080/",
          "height": 375
        }
      },
      "cell_type": "code",
      "source": [
        "plt.style.use('seaborn-whitegrid') # note: this selects a plot theme and all future plots will have this theme\n",
        "\n",
        "\n",
        "plt.plot(dat_sorted.year, dat_sorted.population) # note: the plt at the beginning tells python that the plot function comes from matplotlib"
      ],
      "execution_count": 0,
      "outputs": [
        {
          "output_type": "execute_result",
          "data": {
            "text/plain": [
              "[<matplotlib.lines.Line2D at 0x7f56c22f3278>]"
            ]
          },
          "metadata": {
            "tags": []
          },
          "execution_count": 130
        },
        {
          "output_type": "display_data",
          "data": {
            "image/png": "[encoded data removed]",
            "text/plain": [
              "<matplotlib.figure.Figure at 0x7f56c2ed6860>"
            ]
          },
          "metadata": {
            "tags": []
          }
        }
      ]
    },
    {
      "metadata": {
        "id": "zRbeBpwOcB83",
        "colab_type": "text"
      },
      "cell_type": "markdown",
      "source": [
        "This didn't look good because Python thought we needed to connect all of the data points with one line. But we want two lines: one for under18, and one for total."
      ]
    },
    {
      "metadata": {
        "id": "tTFcC23PcPUL",
        "colab_type": "code",
        "colab": {}
      },
      "cell_type": "code",
      "source": [
        "dat_sorted.ages  #note: this is a case when two categories are in the same column, but we want one line per category on the chart."
      ],
      "execution_count": 0,
      "outputs": []
    },
    {
      "metadata": {
        "id": "eFe7kOG-w_QW",
        "colab_type": "text"
      },
      "cell_type": "markdown",
      "source": [
        "### Step 9. Let's try grouping the data on the **ages** variable."
      ]
    },
    {
      "metadata": {
        "id": "fWp9sIsgw2h9",
        "colab_type": "code",
        "outputId": "2541faad-e23c-4918-f988-385225e96773",
        "colab": {
          "base_uri": "https://localhost:8080/",
          "height": 792
        }
      },
      "cell_type": "code",
      "source": [
        "dat_sorted.groupby('ages').plot(x='year', y='population')"
      ],
      "execution_count": 0,
      "outputs": [
        {
          "output_type": "execute_result",
          "data": {
            "text/plain": [
              "ages\n",
              "total      AxesSubplot(0.125,0.125;0.775x0.755)\n",
              "under18    AxesSubplot(0.125,0.125;0.775x0.755)\n",
              "dtype: object"
            ]
          },
          "metadata": {
            "tags": []
          },
          "execution_count": 209
        },
        {
          "output_type": "display_data",
          "data": {
            "image/png": "[encoded data removed]",
            "text/plain": [
              "<matplotlib.figure.Figure at 0x7f56c1a86da0>"
            ]
          },
          "metadata": {
            "tags": []
          }
        },
        {
          "output_type": "display_data",
          "data": {
            "image/png": "[encoded data removed]",
            "text/plain": [
              "<matplotlib.figure.Figure at 0x7f56c1c53f60>"
            ]
          },
          "metadata": {
            "tags": []
          }
        }
      ]
    },
    {
      "metadata": {
        "id": "bd9jun-P_Hs4",
        "colab_type": "text"
      },
      "cell_type": "markdown",
      "source": [
        "### Step 10. To get the lines on the same graph, we need to make use of the subplots() function from matplotlib. This just tells python to draw the lines on the same chart.\n"
      ]
    },
    {
      "metadata": {
        "id": "FkI0PmBUo6Ho",
        "colab_type": "code",
        "outputId": "4a226921-9406-4517-bfc2-de68491f2d9e",
        "colab": {
          "base_uri": "https://localhost:8080/",
          "height": 444
        }
      },
      "cell_type": "code",
      "source": [
        "fig, ax = plt.subplots()\n",
        "\n",
        "dat_sorted.groupby('ages').plot(x='year', y='population', ax=ax, legend=False)"
      ],
      "execution_count": 0,
      "outputs": [
        {
          "output_type": "execute_result",
          "data": {
            "text/plain": [
              "ages\n",
              "total      AxesSubplot(0.125,0.125;0.775x0.755)\n",
              "under18    AxesSubplot(0.125,0.125;0.775x0.755)\n",
              "dtype: object"
            ]
          },
          "metadata": {
            "tags": []
          },
          "execution_count": 157
        },
        {
          "output_type": "display_data",
          "data": {
            "image/png": "[encoded data removed]",
            "text/plain": [
              "<matplotlib.figure.Figure at 0x7f56c209fe80>"
            ]
          },
          "metadata": {
            "tags": []
          }
        }
      ]
    },
    {
      "metadata": {
        "id": "X6esQSS7FgqU",
        "colab_type": "text"
      },
      "cell_type": "markdown",
      "source": [
        "### Step 11. Pandas has a pivot table feature that will allow us to separate the ages column into two columns, one for each age category (under18 and total). "
      ]
    },
    {
      "metadata": {
        "id": "a9tVtFsqBgG4",
        "colab_type": "code",
        "colab": {}
      },
      "cell_type": "code",
      "source": [
        "dat_pivot = pd.pivot_table(dat_sorted, index=['state_region', 'year'], values=['population'], columns=['ages'])   # see the documentation here: https://pandas.pydata.org/pandas-docs/stable/generated/pandas.pivot_table.html\n",
        "\n",
        "dat_pivot.head()"
      ],
      "execution_count": 0,
      "outputs": []
    },
    {
      "metadata": {
        "id": "rYPUbN6oUUST",
        "colab_type": "text"
      },
      "cell_type": "markdown",
      "source": [
        "### Step 12. Now that we have pivoted the data, we have to figure out how to access the data in each column. "
      ]
    },
    {
      "metadata": {
        "id": "5J155NVPuQ6D",
        "colab_type": "text"
      },
      "cell_type": "markdown",
      "source": [
        "Type **dat_pivot.year** and run the code. Note there is an error. That is because year is an index value. Index values can't be called like regular variables.\n",
        "\n"
      ]
    },
    {
      "metadata": {
        "id": "2K-qi96NUTVA",
        "colab_type": "code",
        "colab": {}
      },
      "cell_type": "code",
      "source": [
        "dat_pivot.year"
      ],
      "execution_count": 0,
      "outputs": []
    },
    {
      "metadata": {
        "id": "r7bvz_kjuVDk",
        "colab_type": "text"
      },
      "cell_type": "markdown",
      "source": [
        "Type **dat_pivot.reset_index()** to turn index values back into columns. This will make year into a regular column again.\n"
      ]
    },
    {
      "metadata": {
        "id": "kxqJwDtAWLWl",
        "colab_type": "code",
        "colab": {}
      },
      "cell_type": "code",
      "source": [
        "dat_pivot = dat_pivot.reset_index()\n",
        "\n",
        "dat_pivot.head()"
      ],
      "execution_count": 0,
      "outputs": []
    },
    {
      "metadata": {
        "id": "3jTulT08uZDI",
        "colab_type": "text"
      },
      "cell_type": "markdown",
      "source": [
        "Now type **dat_pivot.year** and run the code. This should work."
      ]
    },
    {
      "metadata": {
        "id": "b4EUqmCOWVpA",
        "colab_type": "code",
        "colab": {}
      },
      "cell_type": "code",
      "source": [
        "dat_pivot.year\n",
        "\n"
      ],
      "execution_count": 0,
      "outputs": []
    },
    {
      "metadata": {
        "id": "jwXDpIv2ucpZ",
        "colab_type": "text"
      },
      "cell_type": "markdown",
      "source": [
        "Type **dat_pivot.total** and run the code. Notice there is an error. That's because the total variable is nested under the population field.\n"
      ]
    },
    {
      "metadata": {
        "id": "RNI5LGIlUf9K",
        "colab_type": "code",
        "colab": {}
      },
      "cell_type": "code",
      "source": [
        "dat_pivot.total"
      ],
      "execution_count": 0,
      "outputs": []
    },
    {
      "metadata": {
        "id": "aNR9OpvsufSl",
        "colab_type": "text"
      },
      "cell_type": "markdown",
      "source": [
        "Type **dat_pivot.population.total** and run the code. Why does this work?"
      ]
    },
    {
      "metadata": {
        "id": "-Qy6i2piUjTF",
        "colab_type": "code",
        "colab": {}
      },
      "cell_type": "code",
      "source": [
        "dat_pivot.population.total\n"
      ],
      "execution_count": 0,
      "outputs": []
    },
    {
      "metadata": {
        "id": "u9Dbu4xeu1mM",
        "colab_type": "text"
      },
      "cell_type": "markdown",
      "source": [
        "### Step 13. Here's another way to make the graph that we made earlier in step 10 using the pivoted data. Since we have two separate columns for ages (under18 and total), we can create the following line graphs: \n",
        "* **X1=year, Y1=total**\n",
        "* **X2=year, Y2=under18**\n",
        "\n",
        "---\n",
        "\n"
      ]
    },
    {
      "metadata": {
        "id": "T6WvuxSBHIDb",
        "colab_type": "code",
        "outputId": "7add6694-a692-4fe2-a966-5ae7243eccd6",
        "colab": {
          "base_uri": "https://localhost:8080/",
          "height": 375
        }
      },
      "cell_type": "code",
      "source": [
        "plt.plot(dat_pivot.year, dat_pivot.population.total)\n",
        "plt.plot(dat_pivot.year, dat_pivot.population.under18)"
      ],
      "execution_count": 0,
      "outputs": [
        {
          "output_type": "execute_result",
          "data": {
            "text/plain": [
              "[<matplotlib.lines.Line2D at 0x7f56c2263c50>]"
            ]
          },
          "metadata": {
            "tags": []
          },
          "execution_count": 133
        },
        {
          "output_type": "display_data",
          "data": {
            "image/png": "[encoded data removed]",
            "text/plain": [
              "<matplotlib.figure.Figure at 0x7f56c26ba358>"
            ]
          },
          "metadata": {
            "tags": []
          }
        }
      ]
    },
    {
      "metadata": {
        "id": "qEsxpszr5Pu_",
        "colab_type": "text"
      },
      "cell_type": "markdown",
      "source": [
        "### Step 14. Read in a new dataset using pd.read_csv()."
      ]
    },
    {
      "metadata": {
        "id": "aFAfo6Ny5UDQ",
        "colab_type": "code",
        "colab": {}
      },
      "cell_type": "code",
      "source": [
        "url=\"https://raw.githubusercontent.com/alblaine/data-1/master/bad-drivers/bad-drivers.csv\"\n",
        "\n",
        "drivers = pd.read_csv(url)"
      ],
      "execution_count": 0,
      "outputs": []
    },
    {
      "metadata": {
        "id": "hyVArg186cMj",
        "colab_type": "text"
      },
      "cell_type": "markdown",
      "source": [
        "### Step 15. Look at the data using the head() command."
      ]
    },
    {
      "metadata": {
        "id": "V4Gev5U75i2Z",
        "colab_type": "code",
        "outputId": "0d0f61cb-f370-44ce-f747-b11e73eef4fd",
        "colab": {
          "base_uri": "https://localhost:8080/",
          "height": 306
        }
      },
      "cell_type": "code",
      "source": [
        "drivers.head()"
      ],
      "execution_count": 0,
      "outputs": [
        {
          "output_type": "execute_result",
          "data": {
            "text/html": [
              "<div>\n",
              "<style scoped>\n",
              "    .dataframe tbody tr th:only-of-type {\n",
              "        vertical-align: middle;\n",
              "    }\n",
              "\n",
              "    .dataframe tbody tr th {\n",
              "        vertical-align: top;\n",
              "    }\n",
              "\n",
              "    .dataframe thead th {\n",
              "        text-align: right;\n",
              "    }\n",
              "</style>\n",
              "<table border=\"1\" class=\"dataframe\">\n",
              "  <thead>\n",
              "    <tr style=\"text-align: right;\">\n",
              "      <th></th>\n",
              "      <th>State</th>\n",
              "      <th>Number of drivers involved in fatal collisions per billion miles</th>\n",
              "      <th>Percentage Of Drivers Involved In Fatal Collisions Who Were Speeding</th>\n",
              "      <th>Percentage Of Drivers Involved In Fatal Collisions Who Were Alcohol-Impaired</th>\n",
              "      <th>Percentage Of Drivers Involved In Fatal Collisions Who Were Not Distracted</th>\n",
              "      <th>Percentage Of Drivers Involved In Fatal Collisions Who Had Not Been Involved In Any Previous Accidents</th>\n",
              "      <th>Car Insurance Premiums ($)</th>\n",
              "      <th>Losses incurred by insurance companies for collisions per insured driver ($)</th>\n",
              "    </tr>\n",
              "  </thead>\n",
              "  <tbody>\n",
              "    <tr>\n",
              "      <th>0</th>\n",
              "      <td>Alabama</td>\n",
              "      <td>18.8</td>\n",
              "      <td>39</td>\n",
              "      <td>30</td>\n",
              "      <td>96</td>\n",
              "      <td>80</td>\n",
              "      <td>784.55</td>\n",
              "      <td>145.08</td>\n",
              "    </tr>\n",
              "    <tr>\n",
              "      <th>1</th>\n",
              "      <td>Alaska</td>\n",
              "      <td>18.1</td>\n",
              "      <td>41</td>\n",
              "      <td>25</td>\n",
              "      <td>90</td>\n",
              "      <td>94</td>\n",
              "      <td>1053.48</td>\n",
              "      <td>133.93</td>\n",
              "    </tr>\n",
              "    <tr>\n",
              "      <th>2</th>\n",
              "      <td>Arizona</td>\n",
              "      <td>18.6</td>\n",
              "      <td>35</td>\n",
              "      <td>28</td>\n",
              "      <td>84</td>\n",
              "      <td>96</td>\n",
              "      <td>899.47</td>\n",
              "      <td>110.35</td>\n",
              "    </tr>\n",
              "    <tr>\n",
              "      <th>3</th>\n",
              "      <td>Arkansas</td>\n",
              "      <td>22.4</td>\n",
              "      <td>18</td>\n",
              "      <td>26</td>\n",
              "      <td>94</td>\n",
              "      <td>95</td>\n",
              "      <td>827.34</td>\n",
              "      <td>142.39</td>\n",
              "    </tr>\n",
              "    <tr>\n",
              "      <th>4</th>\n",
              "      <td>California</td>\n",
              "      <td>12.0</td>\n",
              "      <td>35</td>\n",
              "      <td>28</td>\n",
              "      <td>91</td>\n",
              "      <td>89</td>\n",
              "      <td>878.41</td>\n",
              "      <td>165.63</td>\n",
              "    </tr>\n",
              "  </tbody>\n",
              "</table>\n",
              "</div>"
            ],
            "text/plain": [
              "        State  \\\n",
              "0     Alabama   \n",
              "1      Alaska   \n",
              "2     Arizona   \n",
              "3    Arkansas   \n",
              "4  California   \n",
              "\n",
              "   Number of drivers involved in fatal collisions per billion miles  \\\n",
              "0                                               18.8                  \n",
              "1                                               18.1                  \n",
              "2                                               18.6                  \n",
              "3                                               22.4                  \n",
              "4                                               12.0                  \n",
              "\n",
              "   Percentage Of Drivers Involved In Fatal Collisions Who Were Speeding  \\\n",
              "0                                                 39                      \n",
              "1                                                 41                      \n",
              "2                                                 35                      \n",
              "3                                                 18                      \n",
              "4                                                 35                      \n",
              "\n",
              "   Percentage Of Drivers Involved In Fatal Collisions Who Were Alcohol-Impaired  \\\n",
              "0                                                 30                              \n",
              "1                                                 25                              \n",
              "2                                                 28                              \n",
              "3                                                 26                              \n",
              "4                                                 28                              \n",
              "\n",
              "   Percentage Of Drivers Involved In Fatal Collisions Who Were Not Distracted  \\\n",
              "0                                                 96                            \n",
              "1                                                 90                            \n",
              "2                                                 84                            \n",
              "3                                                 94                            \n",
              "4                                                 91                            \n",
              "\n",
              "   Percentage Of Drivers Involved In Fatal Collisions Who Had Not Been Involved In Any Previous Accidents  \\\n",
              "0                                                 80                                                        \n",
              "1                                                 94                                                        \n",
              "2                                                 96                                                        \n",
              "3                                                 95                                                        \n",
              "4                                                 89                                                        \n",
              "\n",
              "   Car Insurance Premiums ($)  \\\n",
              "0                      784.55   \n",
              "1                     1053.48   \n",
              "2                      899.47   \n",
              "3                      827.34   \n",
              "4                      878.41   \n",
              "\n",
              "   Losses incurred by insurance companies for collisions per insured driver ($)  \n",
              "0                                             145.08                             \n",
              "1                                             133.93                             \n",
              "2                                             110.35                             \n",
              "3                                             142.39                             \n",
              "4                                             165.63                             "
            ]
          },
          "metadata": {
            "tags": []
          },
          "execution_count": 164
        }
      ]
    },
    {
      "metadata": {
        "id": "DCL97xg-6lBX",
        "colab_type": "text"
      },
      "cell_type": "markdown",
      "source": [
        "### Step 16. Look at the column headers for this dataset using .columns"
      ]
    },
    {
      "metadata": {
        "id": "Kw69T_i76tGi",
        "colab_type": "code",
        "outputId": "f4c1b685-6178-48d0-ca41-4c93d2477e71",
        "colab": {
          "base_uri": "https://localhost:8080/",
          "height": 170
        }
      },
      "cell_type": "code",
      "source": [
        "drivers.columns"
      ],
      "execution_count": 0,
      "outputs": [
        {
          "output_type": "execute_result",
          "data": {
            "text/plain": [
              "Index(['State',\n",
              "       'Number of drivers involved in fatal collisions per billion miles',\n",
              "       'Percentage Of Drivers Involved In Fatal Collisions Who Were Speeding',\n",
              "       'Percentage Of Drivers Involved In Fatal Collisions Who Were Alcohol-Impaired',\n",
              "       'Percentage Of Drivers Involved In Fatal Collisions Who Were Not Distracted',\n",
              "       'Percentage Of Drivers Involved In Fatal Collisions Who Had Not Been Involved In Any Previous Accidents',\n",
              "       'Car Insurance Premiums ($)',\n",
              "       'Losses incurred by insurance companies for collisions per insured driver ($)'],\n",
              "      dtype='object')"
            ]
          },
          "metadata": {
            "tags": []
          },
          "execution_count": 136
        }
      ]
    },
    {
      "metadata": {
        "id": "wzG38u_e6t7I",
        "colab_type": "text"
      },
      "cell_type": "markdown",
      "source": [
        "### Step 17. Rename the columns to shorter names using rename()"
      ]
    },
    {
      "metadata": {
        "id": "ekZpsOo58YD6",
        "colab_type": "code",
        "colab": {}
      },
      "cell_type": "code",
      "source": [
        "drivers_renamed = drivers.rename(columns={'Number of drivers involved in fatal collisions per billion miles':'num_per_billion',\n",
        "       'Percentage Of Drivers Involved In Fatal Collisions Who Were Speeding':'pct_speeding',\n",
        "       'Percentage Of Drivers Involved In Fatal Collisions Who Were Alcohol-Impaired':'pct_alcohol_impaired',\n",
        "       'Percentage Of Drivers Involved In Fatal Collisions Who Were Not Distracted':'pct_not_distracted',\n",
        "       'Percentage Of Drivers Involved In Fatal Collisions Who Had Not Been Involved In Any Previous Accidents':'pct_no_accidents',\n",
        "       'Car Insurance Premiums ($)':'premiums',\n",
        "       'Losses incurred by insurance companies for collisions per insured driver ($)':'losses'})\n",
        "                       \n",
        "                                 "
      ],
      "execution_count": 0,
      "outputs": []
    },
    {
      "metadata": {
        "id": "i73-TA7q-4ej",
        "colab_type": "code",
        "colab": {}
      },
      "cell_type": "code",
      "source": [
        "drivers_renamed.head()\n"
      ],
      "execution_count": 0,
      "outputs": []
    },
    {
      "metadata": {
        "id": "Ojv5Xp-8D5-5",
        "colab_type": "text"
      },
      "cell_type": "markdown",
      "source": [
        "### Step 18. Create a new dataset keeping only the state, premiums, and losses columns."
      ]
    },
    {
      "metadata": {
        "id": "1zARLm8pC9kB",
        "colab_type": "code",
        "outputId": "151fbda3-d47f-4d61-f9f1-612f7a127555",
        "colab": {
          "base_uri": "https://localhost:8080/",
          "height": 204
        }
      },
      "cell_type": "code",
      "source": [
        "drivers_pl = drivers_renamed.iloc[:, [0, 6, 7]]  # keep only the columns that are in the 0th, 6th, and 7th column position in the dataset\n",
        "\n",
        "drivers_pl.tail()"
      ],
      "execution_count": 0,
      "outputs": [
        {
          "output_type": "execute_result",
          "data": {
            "text/html": [
              "<div>\n",
              "<style scoped>\n",
              "    .dataframe tbody tr th:only-of-type {\n",
              "        vertical-align: middle;\n",
              "    }\n",
              "\n",
              "    .dataframe tbody tr th {\n",
              "        vertical-align: top;\n",
              "    }\n",
              "\n",
              "    .dataframe thead th {\n",
              "        text-align: right;\n",
              "    }\n",
              "</style>\n",
              "<table border=\"1\" class=\"dataframe\">\n",
              "  <thead>\n",
              "    <tr style=\"text-align: right;\">\n",
              "      <th></th>\n",
              "      <th>State</th>\n",
              "      <th>premiums</th>\n",
              "      <th>losses</th>\n",
              "    </tr>\n",
              "  </thead>\n",
              "  <tbody>\n",
              "    <tr>\n",
              "      <th>46</th>\n",
              "      <td>Virginia</td>\n",
              "      <td>768.95</td>\n",
              "      <td>153.72</td>\n",
              "    </tr>\n",
              "    <tr>\n",
              "      <th>47</th>\n",
              "      <td>Washington</td>\n",
              "      <td>890.03</td>\n",
              "      <td>111.62</td>\n",
              "    </tr>\n",
              "    <tr>\n",
              "      <th>48</th>\n",
              "      <td>West Virginia</td>\n",
              "      <td>992.61</td>\n",
              "      <td>152.56</td>\n",
              "    </tr>\n",
              "    <tr>\n",
              "      <th>49</th>\n",
              "      <td>Wisconsin</td>\n",
              "      <td>670.31</td>\n",
              "      <td>106.62</td>\n",
              "    </tr>\n",
              "    <tr>\n",
              "      <th>50</th>\n",
              "      <td>Wyoming</td>\n",
              "      <td>791.14</td>\n",
              "      <td>122.04</td>\n",
              "    </tr>\n",
              "  </tbody>\n",
              "</table>\n",
              "</div>"
            ],
            "text/plain": [
              "            State  premiums  losses\n",
              "46       Virginia    768.95  153.72\n",
              "47     Washington    890.03  111.62\n",
              "48  West Virginia    992.61  152.56\n",
              "49      Wisconsin    670.31  106.62\n",
              "50        Wyoming    791.14  122.04"
            ]
          },
          "metadata": {
            "tags": []
          },
          "execution_count": 138
        }
      ]
    },
    {
      "metadata": {
        "id": "BsIyGljIERhl",
        "colab_type": "text"
      },
      "cell_type": "markdown",
      "source": [
        "### Step 19. Create a new variable, ratio, that is the ratio of losses to premiums (ratio= losses/premiums)"
      ]
    },
    {
      "metadata": {
        "id": "bk0927NtEvlJ",
        "colab_type": "code",
        "colab": {}
      },
      "cell_type": "code",
      "source": [
        "drivers_pl = drivers_pl.assign(ratio=drivers_pl.losses/drivers_pl.premiums)"
      ],
      "execution_count": 0,
      "outputs": []
    },
    {
      "metadata": {
        "id": "mwfxA7xpFrgI",
        "colab_type": "text"
      },
      "cell_type": "markdown",
      "source": [
        "### Step 20. Create a scatter plot showing premiums = X, losses = Y."
      ]
    },
    {
      "metadata": {
        "id": "goMNMAlZIEAD",
        "colab_type": "code",
        "outputId": "1266e6de-5af7-4a5e-feac-bc6eca5893ae",
        "colab": {
          "base_uri": "https://localhost:8080/",
          "height": 367
        }
      },
      "cell_type": "code",
      "source": [
        "plt.scatter(drivers_pl.premiums, drivers_pl.losses)"
      ],
      "execution_count": 0,
      "outputs": [
        {
          "output_type": "execute_result",
          "data": {
            "text/plain": [
              "<matplotlib.collections.PathCollection at 0x7f56c2247240>"
            ]
          },
          "metadata": {
            "tags": []
          },
          "execution_count": 140
        },
        {
          "output_type": "display_data",
          "data": {
            "image/png": "[encoded data removed]",
            "text/plain": [
              "<matplotlib.figure.Figure at 0x7f56c25d7400>"
            ]
          },
          "metadata": {
            "tags": []
          }
        }
      ]
    },
    {
      "metadata": {
        "id": "Ag6mT2ELLlP-",
        "colab_type": "text"
      },
      "cell_type": "markdown",
      "source": [
        "### Step 21. Get summary statistics about the drivers_pl dataset."
      ]
    },
    {
      "metadata": {
        "id": "OWXzLFXPLYnn",
        "colab_type": "code",
        "outputId": "cad0593e-f5e7-4f82-cc99-16315fd30743",
        "colab": {
          "base_uri": "https://localhost:8080/",
          "height": 297
        }
      },
      "cell_type": "code",
      "source": [
        "drivers_pl.describe()"
      ],
      "execution_count": 0,
      "outputs": [
        {
          "output_type": "execute_result",
          "data": {
            "text/html": [
              "<div>\n",
              "<style scoped>\n",
              "    .dataframe tbody tr th:only-of-type {\n",
              "        vertical-align: middle;\n",
              "    }\n",
              "\n",
              "    .dataframe tbody tr th {\n",
              "        vertical-align: top;\n",
              "    }\n",
              "\n",
              "    .dataframe thead th {\n",
              "        text-align: right;\n",
              "    }\n",
              "</style>\n",
              "<table border=\"1\" class=\"dataframe\">\n",
              "  <thead>\n",
              "    <tr style=\"text-align: right;\">\n",
              "      <th></th>\n",
              "      <th>premiums</th>\n",
              "      <th>losses</th>\n",
              "      <th>ratio</th>\n",
              "    </tr>\n",
              "  </thead>\n",
              "  <tbody>\n",
              "    <tr>\n",
              "      <th>count</th>\n",
              "      <td>51.000000</td>\n",
              "      <td>51.000000</td>\n",
              "      <td>51.000000</td>\n",
              "    </tr>\n",
              "    <tr>\n",
              "      <th>mean</th>\n",
              "      <td>886.957647</td>\n",
              "      <td>134.493137</td>\n",
              "      <td>0.153809</td>\n",
              "    </tr>\n",
              "    <tr>\n",
              "      <th>std</th>\n",
              "      <td>178.296285</td>\n",
              "      <td>24.835922</td>\n",
              "      <td>0.024613</td>\n",
              "    </tr>\n",
              "    <tr>\n",
              "      <th>min</th>\n",
              "      <td>641.960000</td>\n",
              "      <td>82.750000</td>\n",
              "      <td>0.104324</td>\n",
              "    </tr>\n",
              "    <tr>\n",
              "      <th>25%</th>\n",
              "      <td>768.430000</td>\n",
              "      <td>114.645000</td>\n",
              "      <td>0.134411</td>\n",
              "    </tr>\n",
              "    <tr>\n",
              "      <th>50%</th>\n",
              "      <td>858.970000</td>\n",
              "      <td>136.050000</td>\n",
              "      <td>0.154258</td>\n",
              "    </tr>\n",
              "    <tr>\n",
              "      <th>75%</th>\n",
              "      <td>1007.945000</td>\n",
              "      <td>151.870000</td>\n",
              "      <td>0.171844</td>\n",
              "    </tr>\n",
              "    <tr>\n",
              "      <th>max</th>\n",
              "      <td>1301.520000</td>\n",
              "      <td>194.780000</td>\n",
              "      <td>0.202902</td>\n",
              "    </tr>\n",
              "  </tbody>\n",
              "</table>\n",
              "</div>"
            ],
            "text/plain": [
              "          premiums      losses      ratio\n",
              "count    51.000000   51.000000  51.000000\n",
              "mean    886.957647  134.493137   0.153809\n",
              "std     178.296285   24.835922   0.024613\n",
              "min     641.960000   82.750000   0.104324\n",
              "25%     768.430000  114.645000   0.134411\n",
              "50%     858.970000  136.050000   0.154258\n",
              "75%    1007.945000  151.870000   0.171844\n",
              "max    1301.520000  194.780000   0.202902"
            ]
          },
          "metadata": {
            "tags": []
          },
          "execution_count": 141
        }
      ]
    },
    {
      "metadata": {
        "id": "4UDen3_1LtqG",
        "colab_type": "text"
      },
      "cell_type": "markdown",
      "source": [
        "### Step 22. Save the summary statistics into their own dataset."
      ]
    },
    {
      "metadata": {
        "id": "Ga2udhwYLzPG",
        "colab_type": "code",
        "colab": {}
      },
      "cell_type": "code",
      "source": [
        "dpl_summary = drivers_pl.describe()\n"
      ],
      "execution_count": 0,
      "outputs": []
    },
    {
      "metadata": {
        "id": "AYvgtZT-L9eG",
        "colab_type": "code",
        "outputId": "53c78723-6816-43b9-d474-da6c14e91d00",
        "colab": {
          "base_uri": "https://localhost:8080/",
          "height": 297
        }
      },
      "cell_type": "code",
      "source": [
        "dpl_summary"
      ],
      "execution_count": 0,
      "outputs": [
        {
          "output_type": "execute_result",
          "data": {
            "text/html": [
              "<div>\n",
              "<style scoped>\n",
              "    .dataframe tbody tr th:only-of-type {\n",
              "        vertical-align: middle;\n",
              "    }\n",
              "\n",
              "    .dataframe tbody tr th {\n",
              "        vertical-align: top;\n",
              "    }\n",
              "\n",
              "    .dataframe thead th {\n",
              "        text-align: right;\n",
              "    }\n",
              "</style>\n",
              "<table border=\"1\" class=\"dataframe\">\n",
              "  <thead>\n",
              "    <tr style=\"text-align: right;\">\n",
              "      <th></th>\n",
              "      <th>premiums</th>\n",
              "      <th>losses</th>\n",
              "      <th>ratio</th>\n",
              "    </tr>\n",
              "  </thead>\n",
              "  <tbody>\n",
              "    <tr>\n",
              "      <th>count</th>\n",
              "      <td>51.000000</td>\n",
              "      <td>51.000000</td>\n",
              "      <td>51.000000</td>\n",
              "    </tr>\n",
              "    <tr>\n",
              "      <th>mean</th>\n",
              "      <td>886.957647</td>\n",
              "      <td>134.493137</td>\n",
              "      <td>0.153809</td>\n",
              "    </tr>\n",
              "    <tr>\n",
              "      <th>std</th>\n",
              "      <td>178.296285</td>\n",
              "      <td>24.835922</td>\n",
              "      <td>0.024613</td>\n",
              "    </tr>\n",
              "    <tr>\n",
              "      <th>min</th>\n",
              "      <td>641.960000</td>\n",
              "      <td>82.750000</td>\n",
              "      <td>0.104324</td>\n",
              "    </tr>\n",
              "    <tr>\n",
              "      <th>25%</th>\n",
              "      <td>768.430000</td>\n",
              "      <td>114.645000</td>\n",
              "      <td>0.134411</td>\n",
              "    </tr>\n",
              "    <tr>\n",
              "      <th>50%</th>\n",
              "      <td>858.970000</td>\n",
              "      <td>136.050000</td>\n",
              "      <td>0.154258</td>\n",
              "    </tr>\n",
              "    <tr>\n",
              "      <th>75%</th>\n",
              "      <td>1007.945000</td>\n",
              "      <td>151.870000</td>\n",
              "      <td>0.171844</td>\n",
              "    </tr>\n",
              "    <tr>\n",
              "      <th>max</th>\n",
              "      <td>1301.520000</td>\n",
              "      <td>194.780000</td>\n",
              "      <td>0.202902</td>\n",
              "    </tr>\n",
              "  </tbody>\n",
              "</table>\n",
              "</div>"
            ],
            "text/plain": [
              "          premiums      losses      ratio\n",
              "count    51.000000   51.000000  51.000000\n",
              "mean    886.957647  134.493137   0.153809\n",
              "std     178.296285   24.835922   0.024613\n",
              "min     641.960000   82.750000   0.104324\n",
              "25%     768.430000  114.645000   0.134411\n",
              "50%     858.970000  136.050000   0.154258\n",
              "75%    1007.945000  151.870000   0.171844\n",
              "max    1301.520000  194.780000   0.202902"
            ]
          },
          "metadata": {
            "tags": []
          },
          "execution_count": 143
        }
      ]
    },
    {
      "metadata": {
        "id": "n0_8fFARMoIY",
        "colab_type": "text"
      },
      "cell_type": "markdown",
      "source": [
        "### Step 23. Access the mean of the premiums column using .loc or .iloc"
      ]
    },
    {
      "metadata": {
        "id": "mjwB0h7UMt-O",
        "colab_type": "code",
        "outputId": "88475c77-c1b1-4122-e4dc-a09acf5f4169",
        "colab": {
          "base_uri": "https://localhost:8080/",
          "height": 34
        }
      },
      "cell_type": "code",
      "source": [
        "dpl_summary.loc['mean', 'premiums']"
      ],
      "execution_count": 0,
      "outputs": [
        {
          "output_type": "execute_result",
          "data": {
            "text/plain": [
              "886.9576470588235"
            ]
          },
          "metadata": {
            "tags": []
          },
          "execution_count": 144
        }
      ]
    },
    {
      "metadata": {
        "id": "jf7CWd6sNRoY",
        "colab_type": "code",
        "outputId": "9022e4c1-dc64-40ef-ad5c-bc14dc54e7d0",
        "colab": {
          "base_uri": "https://localhost:8080/",
          "height": 34
        }
      },
      "cell_type": "code",
      "source": [
        "dpl_summary.iloc[1,0]"
      ],
      "execution_count": 0,
      "outputs": [
        {
          "output_type": "execute_result",
          "data": {
            "text/plain": [
              "886.9576470588235"
            ]
          },
          "metadata": {
            "tags": []
          },
          "execution_count": 145
        }
      ]
    },
    {
      "metadata": {
        "id": "vTPuiax5P6tR",
        "colab_type": "text"
      },
      "cell_type": "markdown",
      "source": [
        "### Step 24. Transpose columns and rows in dpl_summary using transpose()"
      ]
    },
    {
      "metadata": {
        "id": "Cx48c3PyP_1r",
        "colab_type": "code",
        "outputId": "e519ec2f-1d1c-42d5-a69e-f0ad396c0887",
        "colab": {
          "base_uri": "https://localhost:8080/",
          "height": 142
        }
      },
      "cell_type": "code",
      "source": [
        "dpl_summary.transpose()"
      ],
      "execution_count": 0,
      "outputs": [
        {
          "output_type": "execute_result",
          "data": {
            "text/html": [
              "<div>\n",
              "<style scoped>\n",
              "    .dataframe tbody tr th:only-of-type {\n",
              "        vertical-align: middle;\n",
              "    }\n",
              "\n",
              "    .dataframe tbody tr th {\n",
              "        vertical-align: top;\n",
              "    }\n",
              "\n",
              "    .dataframe thead th {\n",
              "        text-align: right;\n",
              "    }\n",
              "</style>\n",
              "<table border=\"1\" class=\"dataframe\">\n",
              "  <thead>\n",
              "    <tr style=\"text-align: right;\">\n",
              "      <th></th>\n",
              "      <th>count</th>\n",
              "      <th>mean</th>\n",
              "      <th>std</th>\n",
              "      <th>min</th>\n",
              "      <th>25%</th>\n",
              "      <th>50%</th>\n",
              "      <th>75%</th>\n",
              "      <th>max</th>\n",
              "    </tr>\n",
              "  </thead>\n",
              "  <tbody>\n",
              "    <tr>\n",
              "      <th>premiums</th>\n",
              "      <td>51.0</td>\n",
              "      <td>886.957647</td>\n",
              "      <td>178.296285</td>\n",
              "      <td>641.960000</td>\n",
              "      <td>768.430000</td>\n",
              "      <td>858.970000</td>\n",
              "      <td>1007.945000</td>\n",
              "      <td>1301.520000</td>\n",
              "    </tr>\n",
              "    <tr>\n",
              "      <th>losses</th>\n",
              "      <td>51.0</td>\n",
              "      <td>134.493137</td>\n",
              "      <td>24.835922</td>\n",
              "      <td>82.750000</td>\n",
              "      <td>114.645000</td>\n",
              "      <td>136.050000</td>\n",
              "      <td>151.870000</td>\n",
              "      <td>194.780000</td>\n",
              "    </tr>\n",
              "    <tr>\n",
              "      <th>ratio</th>\n",
              "      <td>51.0</td>\n",
              "      <td>0.153809</td>\n",
              "      <td>0.024613</td>\n",
              "      <td>0.104324</td>\n",
              "      <td>0.134411</td>\n",
              "      <td>0.154258</td>\n",
              "      <td>0.171844</td>\n",
              "      <td>0.202902</td>\n",
              "    </tr>\n",
              "  </tbody>\n",
              "</table>\n",
              "</div>"
            ],
            "text/plain": [
              "          count        mean         std         min         25%         50%  \\\n",
              "premiums   51.0  886.957647  178.296285  641.960000  768.430000  858.970000   \n",
              "losses     51.0  134.493137   24.835922   82.750000  114.645000  136.050000   \n",
              "ratio      51.0    0.153809    0.024613    0.104324    0.134411    0.154258   \n",
              "\n",
              "                  75%          max  \n",
              "premiums  1007.945000  1301.520000  \n",
              "losses     151.870000   194.780000  \n",
              "ratio        0.171844     0.202902  "
            ]
          },
          "metadata": {
            "tags": []
          },
          "execution_count": 146
        }
      ]
    },
    {
      "metadata": {
        "id": "2C0yTesFO95F",
        "colab_type": "text"
      },
      "cell_type": "markdown",
      "source": [
        "### Step 25. Practice. Read in a new dataset from the url provided using the read_csv() command. Name the dataset 'exdat'."
      ]
    },
    {
      "metadata": {
        "id": "MmGEAI8mPEUK",
        "colab_type": "code",
        "outputId": "480a7a72-319e-416f-9af6-3dcef4e903b4",
        "colab": {
          "base_uri": "https://localhost:8080/",
          "height": 204
        }
      },
      "cell_type": "code",
      "source": [
        "url = \"https://raw.githubusercontent.com/alblaine/exchange-rates/master/data/annual.csv\"\n",
        "\n",
        "exdat =  pd.read_csv(url)\n",
        "\n",
        "exdat.head()"
      ],
      "execution_count": 0,
      "outputs": [
        {
          "output_type": "execute_result",
          "data": {
            "text/html": [
              "<div>\n",
              "<style scoped>\n",
              "    .dataframe tbody tr th:only-of-type {\n",
              "        vertical-align: middle;\n",
              "    }\n",
              "\n",
              "    .dataframe tbody tr th {\n",
              "        vertical-align: top;\n",
              "    }\n",
              "\n",
              "    .dataframe thead th {\n",
              "        text-align: right;\n",
              "    }\n",
              "</style>\n",
              "<table border=\"1\" class=\"dataframe\">\n",
              "  <thead>\n",
              "    <tr style=\"text-align: right;\">\n",
              "      <th></th>\n",
              "      <th>Date</th>\n",
              "      <th>Country</th>\n",
              "      <th>Exchange rate</th>\n",
              "    </tr>\n",
              "  </thead>\n",
              "  <tbody>\n",
              "    <tr>\n",
              "      <th>0</th>\n",
              "      <td>1971-01-01</td>\n",
              "      <td>Australia</td>\n",
              "      <td>0.880282</td>\n",
              "    </tr>\n",
              "    <tr>\n",
              "      <th>1</th>\n",
              "      <td>1972-01-01</td>\n",
              "      <td>Australia</td>\n",
              "      <td>0.838715</td>\n",
              "    </tr>\n",
              "    <tr>\n",
              "      <th>2</th>\n",
              "      <td>1973-01-01</td>\n",
              "      <td>Australia</td>\n",
              "      <td>0.704722</td>\n",
              "    </tr>\n",
              "    <tr>\n",
              "      <th>3</th>\n",
              "      <td>1974-01-01</td>\n",
              "      <td>Australia</td>\n",
              "      <td>0.694975</td>\n",
              "    </tr>\n",
              "    <tr>\n",
              "      <th>4</th>\n",
              "      <td>1975-01-01</td>\n",
              "      <td>Australia</td>\n",
              "      <td>0.764701</td>\n",
              "    </tr>\n",
              "  </tbody>\n",
              "</table>\n",
              "</div>"
            ],
            "text/plain": [
              "         Date    Country  Exchange rate\n",
              "0  1971-01-01  Australia       0.880282\n",
              "1  1972-01-01  Australia       0.838715\n",
              "2  1973-01-01  Australia       0.704722\n",
              "3  1974-01-01  Australia       0.694975\n",
              "4  1975-01-01  Australia       0.764701"
            ]
          },
          "metadata": {
            "tags": []
          },
          "execution_count": 200
        }
      ]
    },
    {
      "metadata": {
        "id": "85wAbYH2PJg5",
        "colab_type": "text"
      },
      "cell_type": "markdown",
      "source": [
        "### Step 26. Create a year column based on the Date column (ex: 1971)"
      ]
    },
    {
      "metadata": {
        "id": "c_WJGcaencqB",
        "colab_type": "text"
      },
      "cell_type": "markdown",
      "source": [
        "Note that **.assign** creates a new column, **pd.DatetimeIndex()** converts the Date column into a Date object in Python, and **.year** extracts the year value."
      ]
    },
    {
      "metadata": {
        "id": "5tZBCndpPZCX",
        "colab_type": "code",
        "colab": {}
      },
      "cell_type": "code",
      "source": [
        "exdat = exdat.assign(year=pd.DatetimeIndex(exdat['Date']).year)  # see the Pandas docs here: https://pandas.pydata.org/pandas-docs/stable/generated/pandas.DatetimeIndex.html\n"
      ],
      "execution_count": 0,
      "outputs": []
    },
    {
      "metadata": {
        "id": "SdaKA6J_TogF",
        "colab_type": "text"
      },
      "cell_type": "markdown",
      "source": [
        "### Step. 27. Delete the Date column using drop()."
      ]
    },
    {
      "metadata": {
        "id": "WMyt9mZyT-h6",
        "colab_type": "code",
        "outputId": "45da4b41-53e0-493f-a56d-051e14af4a07",
        "colab": {
          "base_uri": "https://localhost:8080/",
          "height": 204
        }
      },
      "cell_type": "code",
      "source": [
        "exdat = exdat.drop(columns=['Date'])\n",
        "exdat.head()"
      ],
      "execution_count": 0,
      "outputs": [
        {
          "output_type": "execute_result",
          "data": {
            "text/html": [
              "<div>\n",
              "<style scoped>\n",
              "    .dataframe tbody tr th:only-of-type {\n",
              "        vertical-align: middle;\n",
              "    }\n",
              "\n",
              "    .dataframe tbody tr th {\n",
              "        vertical-align: top;\n",
              "    }\n",
              "\n",
              "    .dataframe thead th {\n",
              "        text-align: right;\n",
              "    }\n",
              "</style>\n",
              "<table border=\"1\" class=\"dataframe\">\n",
              "  <thead>\n",
              "    <tr style=\"text-align: right;\">\n",
              "      <th></th>\n",
              "      <th>Country</th>\n",
              "      <th>Exchange rate</th>\n",
              "      <th>year</th>\n",
              "    </tr>\n",
              "  </thead>\n",
              "  <tbody>\n",
              "    <tr>\n",
              "      <th>0</th>\n",
              "      <td>Australia</td>\n",
              "      <td>0.880282</td>\n",
              "      <td>1971</td>\n",
              "    </tr>\n",
              "    <tr>\n",
              "      <th>1</th>\n",
              "      <td>Australia</td>\n",
              "      <td>0.838715</td>\n",
              "      <td>1972</td>\n",
              "    </tr>\n",
              "    <tr>\n",
              "      <th>2</th>\n",
              "      <td>Australia</td>\n",
              "      <td>0.704722</td>\n",
              "      <td>1973</td>\n",
              "    </tr>\n",
              "    <tr>\n",
              "      <th>3</th>\n",
              "      <td>Australia</td>\n",
              "      <td>0.694975</td>\n",
              "      <td>1974</td>\n",
              "    </tr>\n",
              "    <tr>\n",
              "      <th>4</th>\n",
              "      <td>Australia</td>\n",
              "      <td>0.764701</td>\n",
              "      <td>1975</td>\n",
              "    </tr>\n",
              "  </tbody>\n",
              "</table>\n",
              "</div>"
            ],
            "text/plain": [
              "     Country  Exchange rate  year\n",
              "0  Australia       0.880282  1971\n",
              "1  Australia       0.838715  1972\n",
              "2  Australia       0.704722  1973\n",
              "3  Australia       0.694975  1974\n",
              "4  Australia       0.764701  1975"
            ]
          },
          "metadata": {
            "tags": []
          },
          "execution_count": 202
        }
      ]
    },
    {
      "metadata": {
        "id": "oLJ7BEWGSk-_",
        "colab_type": "text"
      },
      "cell_type": "markdown",
      "source": [
        "### Step 28. Practice. Filter the data to only include China and Mexico using the query() function."
      ]
    },
    {
      "metadata": {
        "id": "LtEbYO0MS2TF",
        "colab_type": "code",
        "colab": {}
      },
      "cell_type": "code",
      "source": [
        "exdat_filtered = exdat.query('Country == \"China\" or Country == \"Mexico\"')"
      ],
      "execution_count": 0,
      "outputs": []
    },
    {
      "metadata": {
        "colab_type": "text",
        "id": "iyLVvmVcZ-Nt"
      },
      "cell_type": "markdown",
      "source": [
        "### Step 29. Practice. Rename the \"Exchange rate\" column to \"rate\". We shouldn't have spaces in our variable names."
      ]
    },
    {
      "metadata": {
        "colab_type": "code",
        "id": "8LEaVe1fZ9sA",
        "colab": {}
      },
      "cell_type": "code",
      "source": [
        "exdat_filtered = exdat_filtered.rename(columns={'Exchange rate':'rate'})"
      ],
      "execution_count": 0,
      "outputs": []
    },
    {
      "metadata": {
        "id": "Y1Ue70FSS45k",
        "colab_type": "text"
      },
      "cell_type": "markdown",
      "source": [
        "### Step 30. Practice. Create a line graph showing how the exchange rates have changed over time for China and Mexico. \n",
        "Note: **year** should be the variable on the X axis and **Value** should be the variable on the Y axis. Both lines should be in the same graph."
      ]
    },
    {
      "metadata": {
        "id": "h2e76S9RTCHM",
        "colab_type": "code",
        "outputId": "cd6c6bc8-8133-476d-e7c5-50580ab45659",
        "colab": {
          "base_uri": "https://localhost:8080/",
          "height": 365
        }
      },
      "cell_type": "code",
      "source": [
        "fig, ax=plt.subplots()\n",
        "exdat_filtered.groupby('Country').plot(x='year', y='rate', ax=ax, legend=False)\n",
        "\n",
        "ax.legend([\"China\", \"Mexico\"]);"
      ],
      "execution_count": 0,
      "outputs": [
        {
          "output_type": "display_data",
          "data": {
            "image/png": "[encoded data removed]",
            "text/plain": [
              "<matplotlib.figure.Figure at 0x7f56c1c43ba8>"
            ]
          },
          "metadata": {
            "tags": []
          }
        }
      ]
    }
  ]
}